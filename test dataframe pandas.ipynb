{
 "cells": [
  {
   "cell_type": "code",
   "execution_count": 1,
   "id": "b0c2dc33",
   "metadata": {},
   "outputs": [
    {
     "name": "stdout",
     "output_type": "stream",
     "text": [
      "  product_name  price\n",
      "0       laptop   1200\n",
      "1      printer    150\n",
      "2       tablet    300\n",
      "3         desk    450\n",
      "4        chair    200\n"
     ]
    }
   ],
   "source": [
    "import pandas as pd\n",
    "\n",
    "data = {'product_name': ['laptop', 'printer', 'tablet', 'desk', 'chair'],\n",
    "        'price': [1200, 150, 300, 450, 200]\n",
    "        }\n",
    "\n",
    "df = pd.DataFrame(data)\n",
    "\n",
    "print (df)\n"
   ]
  },
  {
   "cell_type": "code",
   "execution_count": 2,
   "id": "29f9195b",
   "metadata": {},
   "outputs": [
    {
     "name": "stdout",
     "output_type": "stream",
     "text": [
      "  product_name  price\n",
      "0       laptop   1200\n",
      "1     computer   2000\n",
      "2       mobile   1100\n",
      "3   television   1350\n",
      "4    headphone    900\n"
     ]
    }
   ],
   "source": [
    "import pandas as pd\n",
    "\n",
    "data = {'product_name': ['laptop', 'computer', 'mobile', 'television', 'headphone'],\n",
    "        'price': [1200, 2000, 1100, 1350, 900]\n",
    "        }\n",
    "\n",
    "df = pd.DataFrame(data)\n",
    "\n",
    "print (df)\n",
    "\n"
   ]
  },
  {
   "cell_type": "code",
   "execution_count": 3,
   "id": "c97a529f",
   "metadata": {},
   "outputs": [
    {
     "name": "stdout",
     "output_type": "stream",
     "text": [
      "  product_name  price\n",
      "0       laptop   1200\n",
      "1     computer   2000\n",
      "2       mobile   1100\n",
      "3   television   1350\n",
      "4    headphone    900\n"
     ]
    }
   ],
   "source": [
    "import pandas as pd\n",
    "\n",
    "data = {'product_name': ['laptop', 'computer', 'mobile', 'television', 'headphone'],\n",
    "        'price': [1200, 2000, 1100, 1350, 900]\n",
    "        }\n",
    "\n",
    "df = pd.DataFrame(data)\n",
    "\n",
    "print (df)\n",
    "\n",
    "\n"
   ]
  },
  {
   "cell_type": "code",
   "execution_count": null,
   "id": "4651d059",
   "metadata": {},
   "outputs": [],
   "source": []
  }
 ],
 "metadata": {
  "kernelspec": {
   "display_name": "Python 3",
   "language": "python",
   "name": "python3"
  },
  "language_info": {
   "codemirror_mode": {
    "name": "ipython",
    "version": 3
   },
   "file_extension": ".py",
   "mimetype": "text/x-python",
   "name": "python",
   "nbconvert_exporter": "python",
   "pygments_lexer": "ipython3",
   "version": "3.8.8"
  }
 },
 "nbformat": 4,
 "nbformat_minor": 5
}
